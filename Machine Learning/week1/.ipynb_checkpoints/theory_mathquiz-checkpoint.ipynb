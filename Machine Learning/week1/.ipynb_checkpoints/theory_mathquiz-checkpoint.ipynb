{
 "cells": [
  {
   "cell_type": "code",
   "execution_count": 1,
   "metadata": {
    "pycharm": {
     "is_executing": false,
     "metadata": false,
     "name": "#%%\n"
    }
   },
   "outputs": [
    {
     "name": "stdout",
     "output_type": "stream",
     "text": [
      "Requirement already satisfied: numpy in c:\\users\\andre\\appdata\\local\\programs\\python\\python310\\lib\\site-packages (2.1.0)\n"
     ]
    },
    {
     "name": "stderr",
     "output_type": "stream",
     "text": [
      "\n",
      "[notice] A new release of pip is available: 23.2.1 -> 24.2\n",
      "[notice] To update, run: python.exe -m pip install --upgrade pip\n"
     ]
    },
    {
     "name": "stdout",
     "output_type": "stream",
     "text": [
      "Requirement already satisfied: matplotlib in c:\\users\\andre\\appdata\\local\\programs\\python\\python310\\lib\\site-packages (3.5.1)\n",
      "Requirement already satisfied: cycler>=0.10 in c:\\users\\andre\\appdata\\local\\programs\\python\\python310\\lib\\site-packages (from matplotlib) (0.11.0)\n",
      "Requirement already satisfied: fonttools>=4.22.0 in c:\\users\\andre\\appdata\\local\\programs\\python\\python310\\lib\\site-packages (from matplotlib) (4.32.0)\n",
      "Requirement already satisfied: kiwisolver>=1.0.1 in c:\\users\\andre\\appdata\\local\\programs\\python\\python310\\lib\\site-packages (from matplotlib) (1.4.2)\n",
      "Requirement already satisfied: numpy>=1.17 in c:\\users\\andre\\appdata\\local\\programs\\python\\python310\\lib\\site-packages (from matplotlib) (2.1.0)\n",
      "Requirement already satisfied: packaging>=20.0 in c:\\users\\andre\\appdata\\local\\programs\\python\\python310\\lib\\site-packages (from matplotlib) (21.3)\n",
      "Requirement already satisfied: pillow>=6.2.0 in c:\\users\\andre\\appdata\\local\\programs\\python\\python310\\lib\\site-packages (from matplotlib) (9.1.0)\n",
      "Requirement already satisfied: pyparsing>=2.2.1 in c:\\users\\andre\\appdata\\local\\programs\\python\\python310\\lib\\site-packages (from matplotlib) (3.0.8)\n",
      "Requirement already satisfied: python-dateutil>=2.7 in c:\\users\\andre\\appdata\\local\\programs\\python\\python310\\lib\\site-packages (from matplotlib) (2.8.2)\n",
      "Requirement already satisfied: six>=1.5 in c:\\users\\andre\\appdata\\local\\programs\\python\\python310\\lib\\site-packages (from python-dateutil>=2.7->matplotlib) (1.16.0)\n"
     ]
    },
    {
     "name": "stderr",
     "output_type": "stream",
     "text": [
      "\n",
      "[notice] A new release of pip is available: 23.2.1 -> 24.2\n",
      "[notice] To update, run: python.exe -m pip install --upgrade pip\n"
     ]
    },
    {
     "name": "stdout",
     "output_type": "stream",
     "text": [
      "Requirement already satisfied: scikit-learn in c:\\users\\andre\\appdata\\local\\programs\\python\\python310\\lib\\site-packages (1.5.1)\n",
      "Requirement already satisfied: numpy>=1.19.5 in c:\\users\\andre\\appdata\\local\\programs\\python\\python310\\lib\\site-packages (from scikit-learn) (2.1.0)\n",
      "Requirement already satisfied: scipy>=1.6.0 in c:\\users\\andre\\appdata\\local\\programs\\python\\python310\\lib\\site-packages (from scikit-learn) (1.11.1)\n",
      "Requirement already satisfied: joblib>=1.2.0 in c:\\users\\andre\\appdata\\local\\programs\\python\\python310\\lib\\site-packages (from scikit-learn) (1.4.2)\n",
      "Requirement already satisfied: threadpoolctl>=3.1.0 in c:\\users\\andre\\appdata\\local\\programs\\python\\python310\\lib\\site-packages (from scikit-learn) (3.5.0)\n",
      "Collecting numpy>=1.19.5 (from scikit-learn)\n",
      "  Obtaining dependency information for numpy>=1.19.5 from https://files.pythonhosted.org/packages/19/77/538f202862b9183f54108557bfda67e17603fc560c384559e769321c9d92/numpy-1.26.4-cp310-cp310-win_amd64.whl.metadata\n",
      "  Downloading numpy-1.26.4-cp310-cp310-win_amd64.whl.metadata (61 kB)\n",
      "     ---------------------------------------- 61.0/61.0 kB 3.2 MB/s eta 0:00:00\n",
      "Downloading numpy-1.26.4-cp310-cp310-win_amd64.whl (15.8 MB)\n",
      "   ---------------------------------------- 15.8/15.8 MB 19.3 MB/s eta 0:00:00\n",
      "Installing collected packages: numpy\n",
      "  Attempting uninstall: numpy\n",
      "    Found existing installation: numpy 2.1.0\n",
      "    Uninstalling numpy-2.1.0:\n",
      "      Successfully uninstalled numpy-2.1.0\n",
      "Successfully installed numpy-1.26.4\n"
     ]
    },
    {
     "name": "stderr",
     "output_type": "stream",
     "text": [
      "\n",
      "[notice] A new release of pip is available: 23.2.1 -> 24.2\n",
      "[notice] To update, run: python.exe -m pip install --upgrade pip\n"
     ]
    },
    {
     "name": "stdout",
     "output_type": "stream",
     "text": [
      "Requirement already satisfied: pandas in c:\\users\\andre\\appdata\\local\\programs\\python\\python310\\lib\\site-packages (2.2.2)\n",
      "Requirement already satisfied: numpy>=1.22.4 in c:\\users\\andre\\appdata\\local\\programs\\python\\python310\\lib\\site-packages (from pandas) (1.26.4)\n",
      "Requirement already satisfied: python-dateutil>=2.8.2 in c:\\users\\andre\\appdata\\local\\programs\\python\\python310\\lib\\site-packages (from pandas) (2.8.2)\n",
      "Requirement already satisfied: pytz>=2020.1 in c:\\users\\andre\\appdata\\local\\programs\\python\\python310\\lib\\site-packages (from pandas) (2024.1)\n",
      "Requirement already satisfied: tzdata>=2022.7 in c:\\users\\andre\\appdata\\local\\programs\\python\\python310\\lib\\site-packages (from pandas) (2024.1)\n",
      "Requirement already satisfied: six>=1.5 in c:\\users\\andre\\appdata\\local\\programs\\python\\python310\\lib\\site-packages (from python-dateutil>=2.8.2->pandas) (1.16.0)\n"
     ]
    },
    {
     "name": "stderr",
     "output_type": "stream",
     "text": [
      "\n",
      "[notice] A new release of pip is available: 23.2.1 -> 24.2\n",
      "[notice] To update, run: python.exe -m pip install --upgrade pip\n"
     ]
    },
    {
     "name": "stdout",
     "output_type": "stream",
     "text": [
      "Requirement already satisfied: pydotplus in c:\\users\\andre\\appdata\\local\\programs\\python\\python310\\lib\\site-packages (2.0.2)\n",
      "Requirement already satisfied: pyparsing>=2.0.1 in c:\\users\\andre\\appdata\\local\\programs\\python\\python310\\lib\\site-packages (from pydotplus) (3.0.8)\n"
     ]
    },
    {
     "name": "stderr",
     "output_type": "stream",
     "text": [
      "\n",
      "[notice] A new release of pip is available: 23.2.1 -> 24.2\n",
      "[notice] To update, run: python.exe -m pip install --upgrade pip\n"
     ]
    }
   ],
   "source": [
    "!pip install numpy\n",
    "!pip install matplotlib\n",
    "!pip install scikit-learn\n",
    "!pip install pandas\n",
    "!pip install pydotplus"
   ]
  },
  {
   "cell_type": "markdown",
   "metadata": {
    "pycharm": {}
   },
   "source": [
    "# Math Quiz Exercise Week 1\n",
    "\n",
    "## Do the exercises by hand and then check the answers using python.\n",
    "\n",
    "\n",
    "**It is very imporant that you try to solve every exercise:** It is not important that you answer correctly. Spend no more than 5-10 min on each exercise. If you do not solve the exercise, focus on understanding the question, and try to figure out what it is you do not understand.\n",
    "\n",
    "The TA's will be very happy to answer questions during the TA session or on the board. \n",
    "\n",
    "**We have added code that should help you get going with python - execute the code in the order given here - they may depend on each other in that order.**\n",
    "\n"
   ]
  },
  {
   "cell_type": "markdown",
   "metadata": {
    "pycharm": {}
   },
   "source": [
    "# Question 1\n",
    "## By hand\n",
    "Let $x=[1,2,3]^\\intercal$ and $\\theta = [2,3,4]^\\intercal$,  \n",
    "\n",
    "$x, \\theta$ are column vectors\n",
    "\n",
    "Compute the dot product $\\theta^\\intercal x$ by hand.\n",
    "\n",
    "## In code\n",
    "The following Python code represents the vectors 'x' and 'theta' as arrays using a library called NumPy. \n",
    "\n",
    "Read and understand the code. Use the code to check your answer from above.  \n",
    "\n",
    "You can run the code by CTRL+ENTER or SHIFT+ENTER from inside the code box. "
   ]
  },
  {
   "cell_type": "code",
   "execution_count": 2,
   "metadata": {
    "pycharm": {}
   },
   "outputs": [
    {
     "name": "stdout",
     "output_type": "stream",
     "text": [
      "theta:\n",
      " [2 3 4]\n",
      "x:\n",
      " [1 2 3]\n",
      "shapes: (3,) (3,)\n",
      "\n",
      "Do calculation by hand and check with np.dot or np.sum and *\n",
      "\n",
      "Dot prod is 20\n",
      "Dot prod by hand is 20\n"
     ]
    }
   ],
   "source": [
    "# NumPy is a Python library for efficient (vectorized) computations. \n",
    "import numpy as np # import library\n",
    "# For this question we numpy array to:\n",
    "#     1. represent the vectors 'theta' and 'x' as arrays.\n",
    "#     2. compute dot product and sum of 'theta' and 'x' (many solutions possible)\n",
    "\n",
    "# Represent the vectors as arrays. \n",
    "theta = np.array([2 ,3, 4]) \n",
    "x = np.array([1 ,2 ,3])\n",
    "\n",
    "# Print the NumPy array representation of 'x' and 'theta' and their shapes. \n",
    "print('theta:\\n', theta)\n",
    "print('x:\\n', x)\n",
    "print('shapes:', x.shape, theta.shape) \n",
    "print('\\nDo calculation by hand and check with np.dot or np.sum and *\\n')\n",
    "\n",
    "# Make a variable called 'dot_prod' and assign it the dot product of 'x' and 'theta'.\n",
    "dot_prod = np.dot(x,theta)\n",
    "### YOUR CODE HERE\n",
    "dot_prod_hand = x[0] * theta[0] + x[1] * theta[1] + x[2] * theta[2]\n",
    "### END CODE\n",
    "\n",
    "print('Dot prod is {0}'.format(dot_prod))\n",
    "print('Dot prod by hand is {0}'.format(dot_prod_hand))"
   ]
  },
  {
   "cell_type": "markdown",
   "metadata": {},
   "source": [
    "## Q1 Solution:\n",
    "To find the dot product of 2 vectors we use the formula: \n",
    "$$\n",
    "x \\cdot \\theta = \\sum_{i=1}^{n} x_i \\cdot \\theta_i\n",
    "$$\n",
    "This gives us: \n",
    "$$\n",
    "x \\cdot \\theta = 1 \\cdot 2 + 2 \\cdot 3 + 3 \\cdot 4 = 20\n",
    "$$"
   ]
  },
  {
   "cell_type": "markdown",
   "metadata": {
    "pycharm": {}
   },
   "source": [
    "# Question 2\n",
    "Using $x$ and $\\theta$, what is the outer product $x \\theta^\\intercal$ and its shape?\n",
    "\n",
    "Compute it first by hand, then check your answer by completing the Python code below. \n",
    "*hint: x.reshape(3,1) makes x a (3,1) matrix*"
   ]
  },
  {
   "cell_type": "markdown",
   "metadata": {},
   "source": [
    "## Q2 Solution by hand\n",
    "We start by checking this by hand. $x$ is a row matrix and $\\theta$ is a column vector. So we calculate: \n",
    "$$\n",
    "\\begin{pmatrix} 1 & 2 & 3 \\end{pmatrix} \\cdot \\begin{pmatrix} 2 \\\\ 3 \\\\ 4 \\end{pmatrix} = \\begin{pmatrix} 2 & 3 & 4 \\\\ 4 & 6 & 8 \\\\ 6 & 9 & 12 \\end{pmatrix}\n",
    "$$\n",
    "So the shape should be 3x3. "
   ]
  },
  {
   "cell_type": "code",
   "execution_count": 3,
   "metadata": {
    "pycharm": {}
   },
   "outputs": [
    {
     "name": "stdout",
     "output_type": "stream",
     "text": [
      "x as 1 x 3 matrix:\n",
      " [[1 2 3]]\n",
      "Outer Product Shape Is (3, 3)\n",
      "Outer Prodcut Is:\n",
      " [[ 2  3  4]\n",
      " [ 4  6  8]\n",
      " [ 6  9 12]]\n"
     ]
    }
   ],
   "source": [
    "# Represent the vectors as arrays. \n",
    "theta = np.array([2 ,3, 4]) \n",
    "x = np.array([1 ,2 ,3])\n",
    "\n",
    "print('x as 1 x 3 matrix:\\n', x.reshape(1, 3))\n",
    "# Make a variable called 'outer_prod' and assign it the outer product of 'x' and 'theta'. \n",
    "outer_prod = np.zeros(3) # dummy array - may be of wrong shape\n",
    "### YOUR CODE HERE\n",
    "outer_prod = np.outer(x,theta)\n",
    "### END CODE\n",
    "\n",
    "# Prints the outer product and its shape. \n",
    "print('Outer Product Shape Is', outer_prod.shape)\n",
    "print('Outer Prodcut Is:\\n', outer_prod)\n"
   ]
  },
  {
   "cell_type": "markdown",
   "metadata": {
    "pycharm": {}
   },
   "source": [
    "# Question 3\n",
    "## By hand\n",
    "\n",
    "Let $\\theta = [1, 1]^\\intercal$.\n",
    "Plot the <a href=\"https://en.wikipedia.org/wiki/Hyperplane\" target=\"_blank\">hyperplane</a> $\\theta^\\intercal x = 0$ in the range $[-2,2]$.\n",
    "\n",
    "Write $+$ on the side where $\\textrm{sign}(\\theta^\\intercal x) = +1$.\n",
    "\n",
    "## In code\n",
    "You should make the Python code below plot the hyperplane $\\theta^\\intercal x=0$ in the range $[-2, 2]$. \n",
    "\n",
    "This can be done by plotting the line segment $(-2, ?) \\rightarrow (2, ?)$. Your job is to fill in the two question marks such that the hyperplane is plotted correctly. In the code the line segment is represented by 'left_point' and 'right_point', and the question marks are represented by 'None'.  \n",
    "\n",
    "The variable 'plus_point' represents the plus indicator. It should be placed at either $(1,1)$ or $(-1, -1)$, you should figure out which. \n",
    "\n",
    "Start by reading and understanding the code. "
   ]
  },
  {
   "cell_type": "markdown",
   "metadata": {},
   "source": [
    "## By hand solution\n",
    "Since $\\theta=[1,1]^T$ the equation for the hyperplane is: \n",
    "$$\n",
    "x_1 + x_2 = 0\n",
    "$$\n",
    "This is a straight line that passes through origin with slope -1. \n",
    "\n",
    "We now determine the endpoints of the line with the given range [-2,2]. The line is $x_1 + x_2$ so we can have $x_1=-2,x_2=2$ and $x_1 = 2,x_2=-2$. These will be the end points of the line. \n",
    "\n",
    "We are also asked to determine where we should place the plus sign based on the sign of $\\theta^Tx$. This is the same as $sign(x_1 + x_2) = +1$ when $x_1 + x_2 > 0$. Therefore we place it at (1,1) since this is where we have 0."
   ]
  },
  {
   "cell_type": "code",
   "execution_count": 4,
   "metadata": {
    "pycharm": {}
   },
   "outputs": [
    {
     "data": {
      "image/png": "[encoded data removed]",
      "text/plain": [
       "<Figure size 432x288 with 1 Axes>"
      ]
     },
     "metadata": {
      "needs_background": "light"
     },
     "output_type": "display_data"
    }
   ],
   "source": [
    "# Ensure plots are in-line\n",
    "%matplotlib inline\n",
    "\n",
    "# MatplotLib is a library for plotting data. \n",
    "# Here we use it to:\n",
    "#     1. plot the hyperplane 'theta.T*x=0' (.T means transpose)\n",
    "#     2. plot the plus indicator at either (1,1) or (-1, -1). \n",
    "import matplotlib.pyplot as plt\n",
    "\n",
    "# The line segment is represented by 'left_point' and 'right_point'. \n",
    "left_point = [-2, None]\n",
    "right_point = [2, None]\n",
    "plus_pos = [1, 1] #or [-1, -1]\n",
    "\n",
    "# Assign the correct values to 'left_point', 'right_point' and 'plus_pos'.\n",
    "### YOUR CODE \n",
    "left_point = [-2, 2]\n",
    "right_point = [2, -2]\n",
    "plus_pos = [1, 1] #or [-1, -1]\n",
    "### END CODE\n",
    "\n",
    "# The following lines produce the plots. Try run the code.  \n",
    "# See the documentation at https://matplotlib.org/contents.html\n",
    "plt.plot([left_point[0], right_point[0]], [left_point[1], right_point[1]], 'k--', linewidth=4, label='theta.T x = 0')\n",
    "plt.plot(plus_pos[0], plus_pos[1],'r', marker='+', markersize = 16, linewidth=4)\n",
    "plt.legend()\n",
    "plt.show()\n"
   ]
  },
  {
   "cell_type": "markdown",
   "metadata": {
    "pycharm": {}
   },
   "source": [
    "# Question 4\n",
    "## By hand\n",
    "Define \n",
    "$\n",
    "A =\n",
    " \\begin{bmatrix}\n",
    "  -3 & 6 & 6 & 6 \\\\\n",
    "  7 & 9 & 0 & 2 \\\\\n",
    "  42  & 0  & 3 & -5  \\\\\n",
    "  0 & 0 & 7 & 4\\\\\n",
    " \\end{bmatrix}\n",
    " $,\n",
    " \n",
    " $\n",
    "e_3 = \\begin{bmatrix}\n",
    "    0\\\\\n",
    "    0\\\\\n",
    "    1\\\\\n",
    "    0\\\\\n",
    "    \\end{bmatrix}\n",
    "$,\n",
    " and \n",
    "$\n",
    "e_2 = \\begin{bmatrix}\n",
    "    0\\\\\n",
    "    1\\\\\n",
    "    0\\\\\n",
    "    0\\\\\n",
    "    \\end{bmatrix}\n",
    "$\n",
    "\n",
    "What are the matrix vector products:\n",
    "    $Ae_3$,\n",
    "    $Ae_2$ and\n",
    "    $A(4e_3 + 2e_2)$?\n",
    "\n",
    "## In code\n",
    "The code below represents $e_3$ and $e_2$ as arrays and 'A' as a 2-dimensional array. Read and understand the code. Fill in the missing lines and use the code to check your solution. \n",
    "\n",
    "\n",
    "## Bonus Algorithm Question\n",
    "Can you give a simple algorithm for matrix vector multplication of an $n \\times n$ matrix with a $n \\times 1$ where the vector has only $k$ nonzero entries that runs in $O(kn)$ time instead of $O(n^2)$ for standard matrix vector multiplication?"
   ]
  },
  {
   "cell_type": "code",
   "execution_count": 5,
   "metadata": {
    "pycharm": {}
   },
   "outputs": [
    {
     "name": "stdout",
     "output_type": "stream",
     "text": [
      "Ae3:  [6 0 3 7]\n",
      "Ae2:  [6 9 0 0]\n",
      "A(4e3+2e2):  [36 18 12 28]\n"
     ]
    }
   ],
   "source": [
    "# In python you can extract the i'th column by A[:, i-1] (notice that the columns are 0 indexed)\n",
    "A = np.array([[-3, 6,6,6], [7,9,0,2], [42,0,3, -5], [0, 0, 7, 4]])\n",
    "e3 = np.array([0,0,1,0])\n",
    "e2 = np.array([0,1,0,0])\n",
    "\n",
    "Ae3 = None\n",
    "Ae2 = None\n",
    "A4e3_2e2 = None\n",
    "\n",
    "### YOUR CODE - FILL Ae3, Ae2, A4e3_2e2\n",
    "Ae3 = np.dot(A,e3.T)\n",
    "Ae2 = np.dot(A,e2.T)\n",
    "A4e3_2e2 = A @ (4*e3 + 2*e2).T\n",
    "### END CODE\n",
    "\n",
    "print('Ae3: ', Ae3)\n",
    "print('Ae2: ', Ae2)\n",
    "print('A(4e3+2e2): ', A4e3_2e2)\n"
   ]
  },
  {
   "cell_type": "markdown",
   "metadata": {},
   "source": [
    "## Q4 solution by hand\n",
    "Most columns will be 0 so the matrix vector products are: \n",
    "$$\n",
    "Ae_3 =  \\begin{bmatrix}\n",
    "  6 \\\\\n",
    "  0 \\\\\n",
    "  3 \\\\\n",
    "  7\\\\\n",
    " \\end{bmatrix} \n",
    "$$\n",
    "$$\n",
    "Ae_2 =  \n",
    "\\begin{bmatrix}\n",
    "  6 \\\\\n",
    "  9 \\\\\n",
    "  0 \\\\\n",
    "  0 \\\\\n",
    " \\end{bmatrix}\n",
    "$$\n",
    "$$\n",
    "A(4e_3 + 2e_2) = \n",
    " \\begin{bmatrix}\n",
    "  -3 & 6 & 6 & 6 \\\\\n",
    "  7 & 9 & 0 & 2 \\\\\n",
    "  42  & 0  & 3 & -5  \\\\\n",
    "  0 & 0 & 7 & 4\\\\\n",
    " \\end{bmatrix}\n",
    " \\left(\\begin{bmatrix}\n",
    "    0\\\\\n",
    "    0\\\\\n",
    "    4\\\\\n",
    "    0\\\\\n",
    "    \\end{bmatrix} + \\begin{bmatrix}\n",
    "    0\\\\\n",
    "    2\\\\\n",
    "    0\\\\\n",
    "    0\\\\\n",
    "    \\end{bmatrix} \\right) = \n",
    "  \\begin{bmatrix}\n",
    "  36 \\\\\n",
    "  18 \\\\\n",
    "  12  \\\\\n",
    "  28\\\\\n",
    " \\end{bmatrix}\n",
    "$$"
   ]
  },
  {
   "cell_type": "code",
   "execution_count": 12,
   "metadata": {},
   "outputs": [
    {
     "data": {
      "text/plain": [
       "array([6., 0., 3., 7.])"
      ]
     },
     "execution_count": 12,
     "metadata": {},
     "output_type": "execute_result"
    }
   ],
   "source": [
    "\n",
    "#Bonus question - Jeg skipper de udregninger, hvor vektoren har en 0-indgang og laver kun udregninger for ikke-0 indgange. \n",
    "\n",
    "def optimize(A,e):\n",
    "    n = len(e)\n",
    "    y = np.zeros(n)\n",
    "\n",
    "    for j in range (0,n):\n",
    "        if e[j] != 0:\n",
    "            for i in range(0,n):\n",
    "                y[i] += A[i][j] * e[j]\n",
    "    return y\n",
    "\n",
    "A = np.array([[-3, 6,6,6], [7,9,0,2], [42,0,3, -5], [0, 0, 7, 4]])\n",
    "e3 = np.array([0,0,1,0])\n",
    "e2 = np.array([0,1,0,0])\n",
    "\n",
    "optimize(A,e3)"
   ]
  },
  {
   "cell_type": "markdown",
   "metadata": {
    "pycharm": {}
   },
   "source": [
    "# Question 5\n",
    "## By hand\n",
    "Let $f(x) = (0.5x +2)^2$ \n",
    "\n",
    "What is the gradient: $\\nabla_x f(x)$? (it is also denoted by $f'$)\n",
    "                                           \n",
    "What is the hessian: $\\nabla_x^2 f(x)$? (it is also denoted by $f''$)\n",
    "\n",
    "What is $\\nabla f(1/2)$? \n",
    "\n",
    "HINT: <a href=\"https://en.wikipedia.org/wiki/Chain_rule\" target=\"_blank\">https://en.wikipedia.org/wiki/Chain_rule  \n",
    "</a>  \n",
    "\n",
    "## In code\n",
    "Check the above by running the code below. \n",
    "                                                                     "
   ]
  },
  {
   "cell_type": "code",
   "execution_count": 7,
   "metadata": {
    "pycharm": {}
   },
   "outputs": [
    {
     "name": "stdout",
     "output_type": "stream",
     "text": [
      "nablaf:  nablaf = lambda x: 0.5*x + 2\n",
      "\n",
      "hessian:  hessian = lambda x: 0.5\n",
      "\n",
      "f'(1/2):  2.25\n"
     ]
    },
    {
     "data": {
      "image/png": "[encoded data removed]",
      "text/plain": [
       "<Figure size 432x288 with 1 Axes>"
      ]
     },
     "metadata": {
      "needs_background": "light"
     },
     "output_type": "display_data"
    }
   ],
   "source": [
    "# Write the gradient in the lambda function below (instead of None).\n",
    "f = lambda x: (0.5*x+2)**2\n",
    "nablaf = lambda x: None\n",
    "hessian = lambda x: None\n",
    "\n",
    "### YOUR CODE HERE\n",
    "nablaf = lambda x: 0.5*x + 2\n",
    "hessian = lambda x: 0.5\n",
    "### END CODE\n",
    "\n",
    "import inspect\n",
    "print('nablaf: ', inspect.getsource(nablaf))\n",
    "print('hessian: ', inspect.getsource(hessian))\n",
    "z = 1.0/2.0\n",
    "nabla_f_z = nablaf(z)\n",
    "print(\"f'(1/2): \", nabla_f_z)\n",
    "xs = np.linspace(-3, 3, 300)\n",
    "plt.plot(xs, [f(y) for y in xs], 'b-', label='f(x)')\n",
    "tangent_x = [z-1, z+1]\n",
    "tangent_y = [f(z) - nabla_f_z, f(z) + nabla_f_z]\n",
    "plt.plot(tangent_x, tangent_y, 'r-', label='Derivative at {0}'.format(z))\n",
    "plt.legend()\n",
    "plt.show()"
   ]
  },
  {
   "cell_type": "markdown",
   "metadata": {},
   "source": [
    "## Q5 in hand solution\n",
    "I expand the brackets cause its easier than the chain rule: \n",
    "$$\n",
    "f(x) = 0.25x^2 + 2x + 4\n",
    "$$\n",
    "Then the first and second derivatives are: \n",
    "$$\n",
    "f'(x) = 0.5x + 2\n",
    "$$\n",
    "$$\n",
    "f''(x) = 0.5\n",
    "$$\n",
    "And the gradient evaluated at x = 0.5 is: \n",
    "$$\n",
    "f'(0.5) = 0.5(0.5) + 2 = 2.25\n",
    "$$"
   ]
  },
  {
   "cell_type": "markdown",
   "metadata": {
    "pycharm": {}
   },
   "source": [
    "# Question 6\n",
    "## By hand\n",
    "Let $f(x_0,x_1) = x_0 x_1 + x_0 ^2 x_1 + 5$\n",
    "\n",
    "What is the matrix of derivatives $\\frac{\\partial f}{\\partial x} = \\left[\\frac{\\partial f}{\\partial\n",
    "  x_0},\\frac{\\partial f}{\\partial x_1}\\right]$?\n",
    "\n",
    "This is a matrix of shape $1 \\times 2$.\n",
    "\n",
    "The gradient, $\\nabla $ f is defined as the transpose of that matrix.\n",
    "\n",
    "What is $\\nabla f(2,3)$?\n",
    "## In code\n",
    "Check the above by running the code below."
   ]
  },
  {
   "cell_type": "code",
   "execution_count": 8,
   "metadata": {
    "pycharm": {}
   },
   "outputs": [
    {
     "name": "stdout",
     "output_type": "stream",
     "text": [
      "nabla f(2,3):  (15.0, 6.0)\n"
     ]
    }
   ],
   "source": [
    "# Write the matrix of derivatives in the lambda function below\n",
    "# Remember that pow is ** in python\n",
    "nablaf = lambda x: (None, None)\n",
    "\n",
    "### YOUR CODE HERE\n",
    "nablaf = lambda x: (2*x[1]*x[0]+x[1], x[0]**2+x[0])\n",
    "### END CODE\n",
    "\n",
    "x = np.array([2.0, 3.0])\n",
    "print('nabla f(2,3): ', nablaf(x))\n"
   ]
  },
  {
   "cell_type": "markdown",
   "metadata": {},
   "source": [
    "## Q6 in hand solution\n",
    "We take the partial derivates of the function: \n",
    "$$\n",
    "\\frac{\\partial f}{\\partial x_0} = 2x_1x_0 + x_1\n",
    "$$\n",
    "$$\n",
    "\\frac{\\partial f}{\\partial x_1} = x_0^2 + x_0\n",
    "$$\n",
    "At (2,3) we have: \n",
    "$$\n",
    "f'(2,3) = [2(3)(2)+3, 2^2 + 2] = [15, 6]\n",
    "$$"
   ]
  },
  {
   "cell_type": "markdown",
   "metadata": {
    "pycharm": {}
   },
   "source": [
    "# Question 7\n",
    "## By hand\n",
    "Let $X$ be random variable that takes values in $1,\\dots,n$ each with probability $1/n$. \n",
    "\n",
    "In other words, $\\Pr\\left(x =i\\right) = \\frac{1}{n}$ for $i=1,\\dots, n$. \n",
    "\n",
    "What is the expected value of $X$, i.e. $\\mathbb{E}[X]$?\n",
    "\n",
    "HINT: <a href=\"https://en.wikipedia.org/wiki/Expected_value#Definition\" target=\"_blank\">https://en.wikipedia.org/wiki/Expected_value#Definition</a>\n",
    "\n",
    "## In code\n",
    "Check your answer by inserting it in the code below. \n"
   ]
  },
  {
   "cell_type": "code",
   "execution_count": 9,
   "metadata": {
    "pycharm": {}
   },
   "outputs": [
    {
     "name": "stdout",
     "output_type": "stream",
     "text": [
      "for n = 10: teachers guess 5.5:  5.5\n",
      "for n = 2: teachers guess 1.5:  1.5\n"
     ]
    }
   ],
   "source": [
    "# Write the expected value as a function of n in the lambda function below\n",
    "en = lambda n: None\n",
    "\n",
    "### YOUR CODE HERE\n",
    "en = lambda n: (n+1)/2\n",
    "### END CODE\n",
    "\n",
    "print('for n = 10: teachers guess 5.5: ', en(10))\n",
    "print('for n = 2: teachers guess 1.5: ', en(2))\n"
   ]
  },
  {
   "cell_type": "markdown",
   "metadata": {},
   "source": [
    "## Q7 by hand solution\n",
    "Since any of the first $n$ integers is equally likely, we have to sum the first $n$ natural numbers and then multiply by $1/n$ since this is the chance of each of them appearing. So we have: \n",
    "$$\n",
    "E[X] = \\frac{1}{n} \\cdot \\sum_{i=1}^{n} = \\frac{1}{n} \\cdot \\frac{n(n+1)}{2} = \\frac{n+1}{2}\n",
    "$$"
   ]
  },
  {
   "cell_type": "markdown",
   "metadata": {
    "pycharm": {}
   },
   "source": [
    "# Question 8\n",
    "## By hand\n",
    "A couple decides to have children until they get a boy. Assume the probability of getting a boy is always 0.5.\n",
    "\n",
    "What is the maximal  number of children the couple may get?\n",
    "\n",
    "What is the expected number of children the couple gets?\n",
    "\n"
   ]
  },
  {
   "cell_type": "markdown",
   "metadata": {},
   "source": [
    "## Q8 solution\n",
    "#### What is the maximal number of children the couple may get?\n",
    "\n",
    "- **Theoretically**, there is no upper limit to the number of children the couple could have because, in a very unlikely scenario, they could keep having girls indefinitely before finally having a boy. \n",
    "- So, the **maximal** number of children is technically **infinite**.\n",
    "\n",
    "#### What is the expected number of children the couple gets?\n",
    "\n",
    "The expected number of children $\\mathbb{E}[X]$ that the couple will have can be calculated using the concept of **geometric distribution**. \n",
    "\n",
    "##### Geometric Distribution\n",
    "\n",
    "In a geometric distribution, the number of trials \\( X \\) required to get the first success (in this case, a boy) is given by:\n",
    "\n",
    "$$\n",
    "\\mathbb{P}(X = k) = (1 - p)^{k-1} \\cdot p\n",
    "$$\n",
    "\n",
    "Where:\n",
    "- \\( p \\) is the probability of success (having a boy) in a single trial.\n",
    "- \\( (1 - p) \\) is the probability of failure (having a girl).\n",
    "\n",
    "For this problem:\n",
    "- \\( p = 0.5 \\)\n",
    "- \\( (1 - p) = 0.5 \\)\n",
    "\n",
    "The expected value $\\mathbb{E}[X]$ of a geometrically distributed random variable is given by:\n",
    "\n",
    "$$\n",
    "\\mathbb{E}[X] = \\frac{1}{p}\n",
    "$$\n",
    "\n",
    "##### Calculation:\n",
    "\n",
    "Given that \\( p = 0.5 \\), the expected number of children is:\n",
    "\n",
    "$$\n",
    "\\mathbb{E}[X] = \\frac{1}{0.5} = 2\n",
    "$$"
   ]
  },
  {
   "cell_type": "markdown",
   "metadata": {
    "pycharm": {}
   },
   "source": [
    "# Question 9\n",
    "## By hand\n",
    "You roll two fair six sided dice, $d_1,d_2$, independently at random. \n",
    "Let $X=d_1+d_2$ denote the random variable that is the sum of the two\n",
    "die.\n",
    "\n",
    "1. Is $X$ independent from $d_1$?\n",
    "\n",
    "2. What is $P(X=7 \\mid d_1 = 4)$?\n",
    "\n",
    "3. What is $P(X = 12 \\wedge d_1 = 6)$?\n",
    "\n",
    "4. What is $P(d_1 = 6 \\mid X = 12)$?\n",
    "\n",
    "5. What is $P(d_1 = 5 \\mid X = 11$)?\n",
    "\n",
    "HINT: <a href=\"https://en.wikipedia.org/wiki/Independence_(probability_theory)\" target=\"_blank\">https://en.wikipedia.org/wiki/Independence_(probability_theory)</a>\n",
    "\n",
    "## In code\n",
    "Let's solve problems 2-5 by counting. We will show you how to use numpy array and filters to achieve this for question number 2 and then you do the rest. \n",
    "\n",
    "You will need the Python techniques from below in later handins. "
   ]
  },
  {
   "cell_type": "code",
   "execution_count": 10,
   "metadata": {
    "pycharm": {}
   },
   "outputs": [
    {
     "name": "stdout",
     "output_type": "stream",
     "text": [
      "The possible events (d_1, d_2, d_1+d_2): \n",
      " [(1, 1, 2), (1, 2, 3), (1, 3, 4), (1, 4, 5), (1, 5, 6), (1, 6, 7), (2, 1, 3), (2, 2, 4), (2, 3, 5), (2, 4, 6), (2, 5, 7), (2, 6, 8), (3, 1, 4), (3, 2, 5), (3, 3, 6), (3, 4, 7), (3, 5, 8), (3, 6, 9), (4, 1, 5), (4, 2, 6), (4, 3, 7), (4, 4, 8), (4, 5, 9), (4, 6, 10), (5, 1, 6), (5, 2, 7), (5, 3, 8), (5, 4, 9), (5, 5, 10), (5, 6, 11), (6, 1, 7), (6, 2, 8), (6, 3, 9), (6, 4, 10), (6, 5, 11), (6, 6, 12)] \n",
      "\n",
      "As a matrix:\n",
      " [[ 1  1  2]\n",
      " [ 1  2  3]\n",
      " [ 1  3  4]\n",
      " [ 1  4  5]\n",
      " [ 1  5  6]\n",
      " [ 1  6  7]\n",
      " [ 2  1  3]\n",
      " [ 2  2  4]\n",
      " [ 2  3  5]\n",
      " [ 2  4  6]\n",
      " [ 2  5  7]\n",
      " [ 2  6  8]\n",
      " [ 3  1  4]\n",
      " [ 3  2  5]\n",
      " [ 3  3  6]\n",
      " [ 3  4  7]\n",
      " [ 3  5  8]\n",
      " [ 3  6  9]\n",
      " [ 4  1  5]\n",
      " [ 4  2  6]\n",
      " [ 4  3  7]\n",
      " [ 4  4  8]\n",
      " [ 4  5  9]\n",
      " [ 4  6 10]\n",
      " [ 5  1  6]\n",
      " [ 5  2  7]\n",
      " [ 5  3  8]\n",
      " [ 5  4  9]\n",
      " [ 5  5 10]\n",
      " [ 5  6 11]\n",
      " [ 6  1  7]\n",
      " [ 6  2  8]\n",
      " [ 6  3  9]\n",
      " [ 6  4 10]\n",
      " [ 6  5 11]\n",
      " [ 6  6 12]]\n",
      "\n",
      "Let's figure out what is P( d1+d2=7 | d1=4 ):\n",
      "\n",
      " Number of events where d1 equals 4: 6\n",
      " How many of these have d1+d2 = 7? To answer this, let's see the possibilities!\n",
      " The following are all the events where d1 equals 4:\n",
      " [[ 4  1  5]\n",
      " [ 4  2  6]\n",
      " [ 4  3  7]\n",
      " [ 4  4  8]\n",
      " [ 4  5  9]\n",
      " [ 4  6 10]]\n",
      "\n",
      " Hence:\n",
      "  P(X=7 | d_1 = 4) = 1/6 = 0.16666666666666666\n",
      "\n",
      "You should be able to answer the remaining questions the same way\n",
      "\n",
      "P(X = 7 | d1 = 4): 0.16666666666666666\n",
      "P(X = 12 AND d1 = 6): 0.027777777777777776\n",
      "P(d1 = 6 | X = 12): 1.0\n",
      "P(d1 = 5 | X = 11): 0.5\n"
     ]
    }
   ],
   "source": [
    "dice_events = [(i,j, i+j) for i in range(1,7) for j in range(1,7)]\n",
    "print('The possible events (d_1, d_2, d_1+d_2): \\n', dice_events,'\\n')\n",
    "matrix_of_events = np.array(dice_events) \n",
    "print('As a matrix:\\n', matrix_of_events)\n",
    "\n",
    "m = matrix_of_events # shortcut\n",
    "\n",
    "print('\\nLet\\'s figure out what is P( d1+d2=7 | d1=4 ):')\n",
    "d1_filter = m[:,0] == 4 # filter that finds all 4's in the first column, which is d_1\n",
    "print('\\n Number of events where d1 equals 4:', d1_filter.sum())\n",
    "print(' How many of these have d1+d2 = 7? To answer this, let\\'s see the possibilities!')\n",
    "fm = m[d1_filter,:] # extract d_1 = 4 using the filter\n",
    "print(' The following are all the events where d1 equals 4:\\n', fm)\n",
    "\n",
    "print('\\n Hence:\\n  P(X=7 | d_1 = 4) = {0}/{1} = {2}'.format((fm[:,2]==7).sum(), d1_filter.sum(), (fm[:,2]==7).mean())) # more filters and use np.sum, np.mean to compute the probabilities\n",
    "print('\\nYou should be able to answer the remaining questions the same way\\n')\n",
    "\n",
    "px_12_and_d1_6 = None\n",
    "pd1_6_given_X_12 = None\n",
    "pd1_5_given_X_11 = None\n",
    "\n",
    "### YOUR CODE HERE\n",
    "# Q2: P(X = 7 | d1 = 4)\n",
    "d1_filter = m[:, 0] == 4  # Filter for d1 = 4\n",
    "fm = m[d1_filter]  # Extract all events where d1 = 4\n",
    "px_7_given_d1_4 = (fm[:, 2] == 7).mean()  # Probability X = 7 given d1 = 4\n",
    "\n",
    "# Q3: P(X = 12 AND d1 = 6)\n",
    "px_12_and_d1_6 = np.sum((m[:, 0] == 6) & (m[:, 2] == 12)) / 36\n",
    "\n",
    "# Q4: P(d1 = 6 | X = 12)\n",
    "px_12_filter = m[:, 2] == 12  # Filter for X = 12\n",
    "px_12_events = m[px_12_filter]  # All events where X = 12\n",
    "pd1_6_given_X_12 = (px_12_events[:, 0] == 6).mean()  # Probability d1 = 6 given X = 12\n",
    "\n",
    "# Q5: P(d1 = 5 | X = 11)\n",
    "px_11_filter = m[:, 2] == 11  # Filter for X = 11\n",
    "px_11_events = m[px_11_filter]  # All events where X = 11\n",
    "pd1_5_given_X_11 = (px_11_events[:, 0] == 5).mean()  # Probability d1 = 5 given X = 11\n",
    "\n",
    "print(f'P(X = 7 | d1 = 4): {px_7_given_d1_4}')\n",
    "print(f'P(X = 12 AND d1 = 6): {px_12_and_d1_6}')\n",
    "print(f'P(d1 = 6 | X = 12): {pd1_6_given_X_12}')\n",
    "print(f'P(d1 = 5 | X = 11): {pd1_5_given_X_11}')\n",
    "### END CODE\n",
    "\n",
    "#print('P(X=12 and d_1 =6): ', px_12_and_d1_6)\n",
    "#print('P(d_1=6 given X= 12): ', pd1_6_given_X_12)\n",
    "#print('P(d_1=5 given X= 11): ', pd1_5_given_X_11)"
   ]
  },
  {
   "cell_type": "markdown",
   "metadata": {},
   "source": [
    "## Q9 in hand solution \n",
    "\n",
    "### 1)\n",
    "No, they are not independent. If we know $d_1$ is tells us a lot about $X$. \n",
    "\n",
    "### 2)\n",
    "It is 1/6 because $d_2$ has to be equal to 3 which is a 1/6 probability. \n",
    "\n",
    "### 3)\n",
    "$X=12$ implies that the dices som to 12 which can only happen when both are 6. So this is basically the chance of both being 6 which is 1/6 * 1/6 = 1/36. \n",
    "\n",
    "### 4)\n",
    "This is probability 100\\%. If the 2 dices sum to 12 then they are both six so we are certain that $d_1 = 6$. \n",
    "\n",
    "### 5)\n",
    "If $X=11$ then the dice have rolled 5 and 6. And this can happen in 2 ways so the chance of this is 1/2. "
   ]
  },
  {
   "cell_type": "markdown",
   "metadata": {
    "pycharm": {}
   },
   "source": [
    "# Question 10\n",
    "## By hand\n",
    "Consider the following table describing the joint probability\n",
    "distribution $P(X,Y)$. \n",
    "\n",
    "$\n",
    "P=\n",
    "\\begin{bmatrix}\n",
    "X & Y & P(X, Y)\\\\ \n",
    "1 & 1 & 0.1\\\\\n",
    "1 & 2 & 0.1 \\\\\n",
    "1 & 3 & 0.2\\\\\n",
    "2 & 1 & 0.1\\\\\n",
    "2 & 2 & 0.2\\\\\n",
    "2 & 3 & 0.3\\\\\n",
    "\\end{bmatrix}\n",
    "$\n",
    "\n",
    "What is $P(X=1)$?\n",
    "\n",
    "What is $P(X + Y =4)?$\n",
    "\n",
    "HINT: <a href=\"https://en.wikipedia.org/wiki/Joint_probability_distribution\" target=\"_blank\">https://en.wikipedia.org/wiki/Joint_probability_distribution</a>\n",
    "\n",
    "## In code\n",
    "The Python code below computes the answer for the first question. Check your answer, then modify the code to compute $\\Pr(X+Y=4)$. "
   ]
  },
  {
   "cell_type": "code",
   "execution_count": 11,
   "metadata": {
    "pycharm": {}
   },
   "outputs": [
    {
     "name": "stdout",
     "output_type": "stream",
     "text": [
      "matrix:\n",
      " X, Y, X+Y, P(X, Y)\n",
      "[[1.  1.  2.  0.1]\n",
      " [1.  2.  3.  0.1]\n",
      " [1.  3.  4.  0.2]\n",
      " [2.  1.  3.  0.1]\n",
      " [2.  2.  4.  0.2]\n",
      " [2.  3.  5.  0.3]]\n",
      "Sum of the values in the probability column: 1.0 \n",
      "\n",
      "P(X=1):  0.4\n",
      "P(X+Y=4):  0.4\n",
      "P(X=1):  0.4\n",
      "P(X+Y=4):  0.4\n"
     ]
    }
   ],
   "source": [
    "x = np.array([1, 1, 1, 2, 2, 2])\n",
    "y = np.array([1, 2, 3, 1, 2, 3])\n",
    "xplusy = x+y\n",
    "pxy = np.array([0.1, 0.1, 0.2, 0.1, 0.2,0.3])\n",
    "m = np.c_[x, y, xplusy, pxy]\n",
    "print('matrix:\\n X, Y, X+Y, P(X, Y)')\n",
    "print(m)\n",
    "print('Sum of the values in the probability column:', m[:, 3].sum(),'\\n')\n",
    "\n",
    "pxplusy4 = -1\n",
    "\n",
    "pxis1 = m[m[:,0] == 1, 3].sum()\n",
    "\n",
    "### YOUR CODE HERE\n",
    "# 1. Calculate P(X = 1)\n",
    "pxis1 = m[m[:, 0] == 1, 3].sum()\n",
    "\n",
    "# 2. Calculate P(X + Y = 4)\n",
    "pxplusy4 = m[m[:, 2] == 4, 3].sum()\n",
    "\n",
    "# Print the results\n",
    "print('P(X=1): ', pxis1)\n",
    "print('P(X+Y=4): ', pxplusy4)\n",
    "### END CODE\n",
    "\n",
    "print('P(X=1): ', pxis1)\n",
    "print('P(X+Y=4): ', pxplusy4)\n"
   ]
  },
  {
   "cell_type": "markdown",
   "metadata": {},
   "source": [
    "## Q10 in hand solution\n",
    "We sum the probabilities for all the scenarios where $X=1$ so we have:\n",
    "$$\n",
    "P(X=1) = 0.1 + 0.1 + 0.2 = 0.4\n",
    "$$\n",
    "For $X + Y=4$ we see that there are only 2 scenarios with this: \n",
    "$$\n",
    "P(X + Y=4) = 0.2 + 0.2 = 0.4\n",
    "$$"
   ]
  }
 ],
 "metadata": {
  "anaconda-cloud": {},
  "kernelspec": {
   "display_name": "Python 3",
   "language": "python",
   "name": "python3"
  },
  "language_info": {
   "codemirror_mode": {
    "name": "ipython",
    "version": 3
   },
   "file_extension": ".py",
   "mimetype": "text/x-python",
   "name": "python",
   "nbconvert_exporter": "python",
   "pygments_lexer": "ipython3",
   "version": "3.10.4"
  },
  "stem_cell": {
   "cell_type": "raw",
   "metadata": {
    "pycharm": {
     "metadata": false
    }
   },
   "source": ""
  }
 },
 "nbformat": 4,
 "nbformat_minor": 4
}
